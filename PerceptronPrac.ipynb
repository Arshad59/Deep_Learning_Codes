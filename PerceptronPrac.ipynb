{
 "cells": [
  {
   "cell_type": "code",
   "execution_count": 9,
   "id": "893e4246-dd06-4526-a18e-39e77077b2ce",
   "metadata": {},
   "outputs": [],
   "source": [
    "import numpy as np"
   ]
  },
  {
   "cell_type": "code",
   "execution_count": 10,
   "id": "01741da3-c3ef-4ec9-ac0b-d9ac930116b0",
   "metadata": {},
   "outputs": [],
   "source": [
    "def perceptron(x,w,b):\n",
    "    z=np.dot(x,w)+b\n",
    "    return 1 if z>=0 else 0"
   ]
  },
  {
   "cell_type": "code",
   "execution_count": 11,
   "id": "3e63852a-f226-4594-997d-ee3ddf1c0290",
   "metadata": {},
   "outputs": [],
   "source": [
    "x = np.array([0.5,0.3])\n",
    "w=np.array([0.4,-0.6])\n",
    "b=0.1\n"
   ]
  },
  {
   "cell_type": "code",
   "execution_count": 12,
   "id": "2a61b54b-e640-4c42-b02f-deba17a80b9d",
   "metadata": {},
   "outputs": [
    {
     "name": "stdout",
     "output_type": "stream",
     "text": [
      "1\n"
     ]
    }
   ],
   "source": [
    "output =perceptron(x,w,b)\n",
    "print(output)"
   ]
  },
  {
   "cell_type": "code",
   "execution_count": null,
   "id": "4f44352b-6b78-4704-b989-e6b4bacb531a",
   "metadata": {},
   "outputs": [],
   "source": []
  }
 ],
 "metadata": {
  "kernelspec": {
   "display_name": "Python 3 (ipykernel)",
   "language": "python",
   "name": "python3"
  },
  "language_info": {
   "codemirror_mode": {
    "name": "ipython",
    "version": 3
   },
   "file_extension": ".py",
   "mimetype": "text/x-python",
   "name": "python",
   "nbconvert_exporter": "python",
   "pygments_lexer": "ipython3",
   "version": "3.12.2"
  }
 },
 "nbformat": 4,
 "nbformat_minor": 5
}
