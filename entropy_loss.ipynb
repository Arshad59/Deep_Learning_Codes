{
 "cells": [
  {
   "cell_type": "code",
   "execution_count": 11,
   "id": "63c254e5-7ee1-4a66-8b4b-93862614e8d6",
   "metadata": {},
   "outputs": [],
   "source": [
    "import math\n",
    "input_data = [\n",
    "    (0.26,1),\n",
    "    (0.20,0),\n",
    "    (0.48,1),\n",
    "    (0.30,1)]"
   ]
  },
  {
   "cell_type": "code",
   "execution_count": 12,
   "id": "78469084-d1ca-49e1-bf3d-afc6d431ab5a",
   "metadata": {},
   "outputs": [],
   "source": [
    "def crossentropy(input_data):\n",
    "    loss=0\n",
    "    n=len(input_data)\n",
    "    for entry in input_data:\n",
    "        w_sum=entry[0]\n",
    "        y=entry[1]\n",
    "        loss+=-(y*math.log10(w_sum)+(1-y)*math.log10(1-w_sum))\n",
    "        print(\"loss:\",-(y*math.log10(w_sum)+(1-y)*math.log10(1-w_sum)))\n",
    "    return loss/n\n"
   ]
  },
  {
   "cell_type": "code",
   "execution_count": 13,
   "id": "39472e2b-ba92-4596-a477-903f27dfc28f",
   "metadata": {},
   "outputs": [
    {
     "name": "stdout",
     "output_type": "stream",
     "text": [
      "loss: 0.585026652029182\n",
      "loss: 0.09691001300805639\n",
      "loss: 0.3187587626244128\n",
      "loss: 0.5228787452803376\n",
      "Average loss is:  0.3808935432354972\n"
     ]
    }
   ],
   "source": [
    "\n",
    "error_term=crossentropy(input_data)\n",
    "print(\"Average loss is: \",error_term)"
   ]
  },
  {
   "cell_type": "code",
   "execution_count": null,
   "id": "7e100ae4-ead7-4321-be58-49983a840d17",
   "metadata": {},
   "outputs": [],
   "source": []
  }
 ],
 "metadata": {
  "kernelspec": {
   "display_name": "Python 3 (ipykernel)",
   "language": "python",
   "name": "python3"
  },
  "language_info": {
   "codemirror_mode": {
    "name": "ipython",
    "version": 3
   },
   "file_extension": ".py",
   "mimetype": "text/x-python",
   "name": "python",
   "nbconvert_exporter": "python",
   "pygments_lexer": "ipython3",
   "version": "3.12.2"
  }
 },
 "nbformat": 4,
 "nbformat_minor": 5
}
